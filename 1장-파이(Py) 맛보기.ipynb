{
 "cells": [
  {
   "cell_type": "code",
   "execution_count": 1,
   "metadata": {},
   "outputs": [
    {
     "name": "stdout",
     "output_type": "stream",
     "text": [
      "5\n",
      "4\n",
      "3\n",
      "2\n",
      "1\n",
      "hey!\n"
     ]
    }
   ],
   "source": [
    "for countdown in 5, 4, 3, 2, 1, \"hey!\":\n",
    "    print(countdown)"
   ]
  },
  {
   "cell_type": "code",
   "execution_count": 2,
   "metadata": {},
   "outputs": [
    {
     "name": "stdout",
     "output_type": "stream",
     "text": [
      "Be that as it may\n"
     ]
    }
   ],
   "source": [
    "cliches = [\n",
    "    \"At the end of the day\",\n",
    "    \"Having said that\",\n",
    "    \"The fact of the matter is\",\n",
    "    \"Be that as it may\",\n",
    "    \"The bottom line is\",\n",
    "    \"If you will\",\n",
    "]\n",
    "print(cliches[3])"
   ]
  },
  {
   "cell_type": "code",
   "execution_count": 3,
   "metadata": {},
   "outputs": [
    {
     "name": "stdout",
     "output_type": "stream",
     "text": [
      "Curly says: Nyuk nyuk!\n"
     ]
    }
   ],
   "source": [
    "quotes = {\n",
    "    \"Moe\": \"A wise guy, huh?\",\n",
    "    \"Larry\": \"Ow!\",\n",
    "    \"Curly\": \"Nyuk nyuk!\",\n",
    "}\n",
    "stooge = \"Curly\"\n",
    "print(stooge, \"says:\", quotes[stooge])\n",
    "\n",
    "# 맨 처음 stooge는 변수 Curly 호출\n",
    "# 그 다음 says:\n",
    "# quotes는 딕셔너리인데 [stooge]를 호출\n",
    "# 아까 stooge는 Curly라는 내용을 담고 있음\n",
    "# 따라서 quotes에 키 값인 Curly를 찾고 vaule 값인 Nyuk nyuk!를 반환\n",
    "# Curly says: Nyuk nyuk! ==> 출력"
   ]
  },
  {
   "cell_type": "code",
   "execution_count": 4,
   "metadata": {},
   "outputs": [],
   "source": [
    "# JSON은 두개의 구조를 기본으로 두고 있다:\n",
    "\n",
    "# name/value 형태의 쌍으로 collection 타입. 다양한 언어들에서,\n",
    "# 이는 object, record, struct(구조체), dictionary, hash table, 키가 있는 list, 또는 연상배열로서 실현 되었다.\n",
    "\n",
    "# 값들의 순서화된 리스트. 대부분의 언어들에서, 이는 array, vector, list, 또는 sequence로서 실현 되었다.\n",
    "\n",
    "# object는 name/value 쌍들의 비순서화된 SET이다. \n",
    "# object는 { (좌 중괄호)로 시작하고 } (우 중괄호)로 끝내어 표현한다. \n",
    "# 각 name 뒤에 : (colon)을 붙이고 , (comma)로 name/value 쌍들 간을 구분"
   ]
  },
  {
   "cell_type": "code",
   "execution_count": 5,
   "metadata": {},
   "outputs": [
    {
     "name": "stdout",
     "output_type": "stream",
     "text": [
      "Batman v Superman: Dawn of Justice - Official Teaser Trailer [HD]\n",
      "Bonnie hates to eat alone!\n",
      "Star Wars: The Force Awakens Official Teaser #2\n",
      "Matthew Mcconaughey's reaction to Star Wars teaser #2 - Celebrity reactions\n",
      "Star Wars Battlefront Reveal Trailer\n",
      "Daniels PromPosal\n"
     ]
    }
   ],
   "source": [
    "import json\n",
    "# 파이썬 표준 라이브러리인 json의 모든 코드를 임포트 한다.\n",
    "from urllib.request import urlopen\n",
    "# 표준 urllib 라이브러리에서 urlopen 함수만 임포트 한다.\n",
    "url = \"https://raw.githubusercontent.com/AstinChoi/introducing-python/master/intro/top_rated.json\"\n",
    "# 웹사이트 주소를 url 변수에 할당\n",
    "response = urlopen(url)\n",
    "# url에 해당하는 웹 서버에 연결하고 특정 웹 서비스를 요청\n",
    "contents = response.read()\n",
    "#요청한 데이터를 얻어서 contents 변수에 할당\n",
    "text = contents.decode('utf8')\n",
    "# 데이터를 Json 형식으로 된 텍스트 문자열로 디코딩하고 text변수에 할당\n",
    "# 디코딩은 암호화를 푼다는 의미로 일단 생각\n",
    "data = json.loads(text)\n",
    "# 동영상에 대한 자료가 담긴 text 변수를 파이썬의 자료구조로 변환해서 data 변수에 담는다.\n",
    "for video in data['feed']['entry'][0:6]:\n",
    "    print(video['title']['$t'])"
   ]
  },
  {
   "cell_type": "code",
   "execution_count": null,
   "metadata": {},
   "outputs": [],
   "source": []
  }
 ],
 "metadata": {
  "kernelspec": {
   "display_name": "Python 3",
   "language": "python",
   "name": "python3"
  },
  "language_info": {
   "codemirror_mode": {
    "name": "ipython",
    "version": 3
   },
   "file_extension": ".py",
   "mimetype": "text/x-python",
   "name": "python",
   "nbconvert_exporter": "python",
   "pygments_lexer": "ipython3",
   "version": "3.6.5"
  }
 },
 "nbformat": 4,
 "nbformat_minor": 2
}
